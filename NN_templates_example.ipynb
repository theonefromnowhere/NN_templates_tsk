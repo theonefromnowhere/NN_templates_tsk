{
 "cells": [
  {
   "cell_type": "code",
   "execution_count": 1,
   "id": "9d1cffd6-e5ba-468b-a1ec-9fc836c57bb6",
   "metadata": {
    "tags": []
   },
   "outputs": [],
   "source": [
    "from NN_templates import *"
   ]
  },
  {
   "cell_type": "code",
   "execution_count": 4,
   "id": "e7080c30-c8c9-4bcd-9be8-99b783582328",
   "metadata": {
    "tags": []
   },
   "outputs": [],
   "source": [
    "import glob\n",
    "import json\n",
    "\n",
    "pk_s = sorted(glob.glob('/pscratch/sd/d/dforero/projects/sec-gen-ez/EZmock/emu_train_wn0/*/PK*RSD.dat'))\n",
    "\n",
    "confs = sorted(glob.glob('/pscratch/sd/d/dforero/projects/sec-gen-ez/EZmock/emu_train_wn0/*/config.json'))\n"
   ]
  },
  {
   "cell_type": "code",
   "execution_count": 5,
   "id": "86f5b251-c097-4fac-a97d-498a66b0387f",
   "metadata": {
    "tags": []
   },
   "outputs": [],
   "source": [
    "output_s = []\n",
    "output2_s = []\n",
    "input_s = []\n",
    "\n",
    "for i in range(len(pk_s)):\n",
    "    output_s.append(np.concatenate(np.loadtxt(pk_s[i])[2:21,5:6]))\n",
    "    output2_s.append(np.concatenate(np.loadtxt(pk_s[i])[2:21,6:]))\n",
    "    with open(confs[i]) as f:\n",
    "        conf = json.load(f)\n",
    "    input_s.append(np.array([conf[0]['redshift'],conf[0]['pdf_base'],conf[0]['dens_scat'],conf[0]['rand_motion'],conf[0]['dens_cut']]))"
   ]
  },
  {
   "cell_type": "code",
   "execution_count": 7,
   "id": "e98f45e4-4daa-439e-90eb-eb84048f50c1",
   "metadata": {
    "tags": []
   },
   "outputs": [],
   "source": [
    "PS_all = NNParameterModelPCA(input_s,output_s,5,32, pca_components = None,lr=4e-5)\n",
    "PS_all2 = NNParameterModelPCA(input_s,output2_s,5,16, pca_components = None,lr=4e-5,noise=0.0)"
   ]
  },
  {
   "cell_type": "code",
   "execution_count": null,
   "id": "f89b176b-f771-4878-87a8-0330423e9030",
   "metadata": {},
   "outputs": [],
   "source": [
    "PS_all.Optimise(training = 290,validation=10,epochs = 400,batch_size = 290)\n",
    "PS_all2.Optimise(training = 290,validation=10,epochs = 400,batch_size = 290)"
   ]
  },
  {
   "cell_type": "code",
   "execution_count": null,
   "id": "5124a8b3-0610-4438-81b9-2e93f9fd27e7",
   "metadata": {},
   "outputs": [],
   "source": [
    "import matplotlib\n",
    "matplotlib.rcParams['figure.dpi']=200\n",
    "delt_st = []\n",
    "for i in range(len(output_s)):\n",
    "    plt.plot((PS_all.Predict(input_s[i])[0]-output_s[i])/output_s[i],'C0--',alpha=0.3,)\n",
    "    delt_st.append((PS_all.Predict(input_s[i])[0]-output_s[i])/output_s[i])\n",
    "    \n",
    "    \n",
    "plt.axhline(0.01,color='black',linestyle='--')\n",
    "plt.axhline(-0.01,color='black',linestyle='--')\n",
    "plt.ylim(-20,20)\n",
    "\n",
    "print([np.mean(delt_st),np.std(delt_st)])\n",
    "print(np.mean(np.abs(delt_st)))"
   ]
  }
 ],
 "metadata": {
  "kernelspec": {
   "display_name": "pytorch-1.9.0",
   "language": "python",
   "name": "pytorch-1.9.0"
  },
  "language_info": {
   "codemirror_mode": {
    "name": "ipython",
    "version": 3
   },
   "file_extension": ".py",
   "mimetype": "text/x-python",
   "name": "python",
   "nbconvert_exporter": "python",
   "pygments_lexer": "ipython3",
   "version": "3.8.11"
  }
 },
 "nbformat": 4,
 "nbformat_minor": 5
}
